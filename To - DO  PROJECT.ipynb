{
 "cells": [
  {
   "cell_type": "code",
   "execution_count": null,
   "id": "8b6f76e5-3d0e-4c2d-afd0-31ab76a7597d",
   "metadata": {},
   "outputs": [
    {
     "name": "stdout",
     "output_type": "stream",
     "text": [
      "WELCOME TO THE TASK MANAGEMENT APP----\n"
     ]
    },
    {
     "name": "stdin",
     "output_type": "stream",
     "text": [
      "Enter how many tasks you want to add:  1\n",
      "Enter task 1:  run\n"
     ]
    },
    {
     "name": "stdout",
     "output_type": "stream",
     "text": [
      "Today's Tasks are: \n",
      "['run']\n"
     ]
    }
   ],
   "source": [
    "def task():  \n",
    "    tasks = []\n",
    "    print('WELCOME TO THE TASK MANAGEMENT APP----')\n",
    "    total_task = int(input('Enter how many tasks you want to add: '))\n",
    "    for i in range(1, total_task + 1):\n",
    "        task_name = input(f'Enter task {i}: ')\n",
    "        tasks.append(task_name)\n",
    "    print(f\"Today's Tasks are: \\n{tasks}\")\n",
    "\n",
    "    while True:\n",
    "        operation = int(input('Enter 1 - add\\n2 - update\\n3 - delete\\n4 - view\\n5 - exit/stop : '))\n",
    "        if operation == 1:\n",
    "            add = input('Enter a task you want to add: ')\n",
    "            tasks.append(add)\n",
    "            print(f\"Task '{add}' has been added successfully.\") \n",
    "        elif operation == 2:\n",
    "            update_val = input('Enter the task you want to update: ')\n",
    "            if update_val in tasks: \n",
    "                up = input('Enter the new task: ')\n",
    "                ind = tasks.index(update_val)\n",
    "                tasks[ind] = up\n",
    "                print(f\"Updated task to '{up}'.\")  \n",
    "           \n",
    "        elif operation == 3:\n",
    "            delete_val = input('Enter the task you want to delete: ')\n",
    "            if del_val in tasks:\n",
    "                ind = tasks.index(delete_val)\n",
    "                del tasks[ind]\n",
    "                print(f\"Task '{delete_val}' has been deleted.\")\n",
    "         \n",
    "        elif operation == 4:\n",
    "            print(f\"total  tasks: \\n{tasks}\")\n",
    "        elif operation == 5:\n",
    "            print(\"Exiting the programme. Goodbye!\")\n",
    "            break\n",
    "        else:\n",
    "            print(\"Invalid choice. Please try again.\")\n",
    "\n",
    "# Run the task function\n",
    "task()\n"
   ]
  }
 ],
 "metadata": {
  "kernelspec": {
   "display_name": "Python 3 (ipykernel)",
   "language": "python",
   "name": "python3"
  },
  "language_info": {
   "codemirror_mode": {
    "name": "ipython",
    "version": 3
   },
   "file_extension": ".py",
   "mimetype": "text/x-python",
   "name": "python",
   "nbconvert_exporter": "python",
   "pygments_lexer": "ipython3",
   "version": "3.12.7"
  }
 },
 "nbformat": 4,
 "nbformat_minor": 5
}
